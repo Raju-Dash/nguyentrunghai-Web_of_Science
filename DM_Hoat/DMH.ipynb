{
 "cells": [
  {
   "cell_type": "code",
   "execution_count": 1,
   "metadata": {},
   "outputs": [],
   "source": [
    "import pandas as pd\n",
    "import numpy as np\n",
    "\n",
    "import matplotlib.pyplot as plt\n",
    "%matplotlib inline\n",
    "import seaborn as sns\n",
    "sns.set()\n",
    "\n",
    "from wordcloud import WordCloud\n",
    "from collections import Counter\n",
    "from nltk.stem import PorterStemmer, LancasterStemmer"
   ]
  },
  {
   "cell_type": "code",
   "execution_count": 2,
   "metadata": {},
   "outputs": [],
   "source": [
    "def read_articles(file_name):\n",
    "    with open(file_name, \"r\") as handle:\n",
    "        article_all_lines = handle.readlines()\n",
    "    \n",
    "    article_all_lines = [line.replace(\"\\n\", \"\") for line in article_all_lines]\n",
    "    \n",
    "    start_art_idx = []\n",
    "    for idx, line in enumerate(article_all_lines):\n",
    "        if line.startswith(\"@\"):\n",
    "            start_art_idx.append(idx)\n",
    "    \n",
    "    idx_parirs = list(zip(start_art_idx[:-1], start_art_idx[1:])) + [(start_art_idx[-1], None)]\n",
    "    #print(idx_parirs)\n",
    "    articles = []\n",
    "    for s_idx, e_idx in idx_parirs:\n",
    "        articles.append(article_all_lines[s_idx: e_idx])\n",
    "    return articles"
   ]
  },
  {
   "cell_type": "code",
   "execution_count": 3,
   "metadata": {},
   "outputs": [],
   "source": [
    "def look_for_field(field, lines_per_article):\n",
    "    s_idx = -1\n",
    "    for idx, line in enumerate(lines_per_article):\n",
    "        if line.startswith(field + \" \"):\n",
    "            s_idx = idx\n",
    "    \n",
    "    e_idx = s_idx\n",
    "    idx = s_idx\n",
    "    while True:\n",
    "        idx += 1\n",
    "        if lines_per_article[idx].startswith(\" \"):\n",
    "            e_idx = idx\n",
    "        else:\n",
    "            break\n",
    "    e_idx += 1\n",
    "    return s_idx, e_idx"
   ]
  },
  {
   "cell_type": "code",
   "execution_count": 4,
   "metadata": {},
   "outputs": [],
   "source": [
    "def extract_field(field, lines_per_article):\n",
    "    s_idx, e_idx = look_for_field(field, lines_per_article)\n",
    "    if s_idx == -1:\n",
    "        return None\n",
    "    \n",
    "    extracted_lines = lines_per_article[s_idx: e_idx]\n",
    "    \n",
    "    extracted_lines = [line.replace(field, \"\") for line in extracted_lines]\n",
    "    extracted_lines = [line.replace(\"=\", \"\") for line in extracted_lines]\n",
    "\n",
    "    extracted_lines = [line.replace(\"{\", \"\") for line in extracted_lines]\n",
    "    extracted_lines = [line.replace(\"},\", \"\") for line in extracted_lines]\n",
    "    extracted_lines = [line.replace(\"}\", \"\") for line in extracted_lines]\n",
    "    \n",
    "    extracted_lines = [line.strip() for line in extracted_lines]\n",
    "    \n",
    "    return \"\\n\".join(extracted_lines)"
   ]
  },
  {
   "cell_type": "code",
   "execution_count": 5,
   "metadata": {},
   "outputs": [],
   "source": [
    "def extract_fields(fields, lines_per_article):\n",
    "    art = {field: extract_field(field, lines_per_article) for field in fields}\n",
    "    return art"
   ]
  },
  {
   "cell_type": "code",
   "execution_count": 6,
   "metadata": {},
   "outputs": [],
   "source": [
    "def create_pub_df(bib_file, fields):\n",
    "    articles = read_articles(bib_file)\n",
    "    df = [extract_fields(fields, art) for art in articles]\n",
    "    return pd.DataFrame(df)"
   ]
  },
  {
   "cell_type": "code",
   "execution_count": 7,
   "metadata": {},
   "outputs": [],
   "source": [
    "def remove_newlines_char(df, cols):\n",
    "    for col in cols:\n",
    "        df[col] = df[col].str.replace(\"\\n\", \" \")\n",
    "    return df"
   ]
  },
  {
   "cell_type": "code",
   "execution_count": 8,
   "metadata": {},
   "outputs": [],
   "source": [
    "def remove_backward_slash(df, cols):\n",
    "    for col in cols:\n",
    "        df[col] = df[col].str.replace(\"\\\\\", \"\")\n",
    "    return df"
   ]
  },
  {
   "cell_type": "code",
   "execution_count": 9,
   "metadata": {},
   "outputs": [],
   "source": [
    "def impute_year_none(df):\n",
    "    is_year_none = df[\"Year\"].isna()\n",
    "    df.loc[is_year_none, \"Year\"] = df.loc[is_year_none, \"Early Access Date\"].apply(lambda s: s.split()[-1])\n",
    "    return df"
   ]
  },
  {
   "cell_type": "code",
   "execution_count": 10,
   "metadata": {},
   "outputs": [],
   "source": [
    "def nr_coauth(df, new_col_name):\n",
    "    df[new_col_name] = 0\n",
    "    auth_not_nan = ~df[\"Author\"].isna()\n",
    "    df.loc[auth_not_nan, new_col_name] = df.loc[auth_not_nan, \"Author\"].apply(lambda s: len(s.split(\"and\")))\n",
    "    return df"
   ]
  },
  {
   "cell_type": "code",
   "execution_count": 11,
   "metadata": {},
   "outputs": [],
   "source": [
    "def nr_emails(df, new_col_name):\n",
    "    df[new_col_name] = 0\n",
    "    email_not_na = ~df[\"Author-Email\"].isna()\n",
    "    df.loc[email_not_na, new_col_name] = df.loc[email_not_na, \"Author-Email\"].apply(lambda s: len(s.split()))\n",
    "    return df"
   ]
  },
  {
   "cell_type": "code",
   "execution_count": 12,
   "metadata": {},
   "outputs": [],
   "source": [
    "def has_email(df, new_col_name, emails):\n",
    "    df[new_col_name] = False\n",
    "    \n",
    "    email_not_na = ~df[\"Author-Email\"].isna()\n",
    "    \n",
    "    for email in emails:\n",
    "        df.loc[email_not_na, new_col_name] = df.loc[email_not_na, new_col_name] | df.loc[\n",
    "            email_not_na, \"Author-Email\"].apply(lambda s: email in s)\n",
    "    return df"
   ]
  },
  {
   "cell_type": "code",
   "execution_count": 13,
   "metadata": {},
   "outputs": [],
   "source": [
    "def _is_reprint_auth(aff_str, auth_name):\n",
    "    lines = aff_str.split(\"\\n\")\n",
    "    for line in lines:\n",
    "        if (auth_name in line) and (\"(Reprint Author)\" in line):\n",
    "            return True\n",
    "    return False\n",
    "\n",
    "def is_reprint_auth(df, new_col_name, auth_name):\n",
    "    df[new_col_name] = False\n",
    "    aff_not_na = ~df[\"Affiliation\"].isna()\n",
    "    df.loc[aff_not_na, new_col_name] = df.loc[aff_not_na, \"Affiliation\"].apply(\n",
    "        lambda s: _is_reprint_auth(s, auth_name))\n",
    "    return df"
   ]
  },
  {
   "cell_type": "code",
   "execution_count": 14,
   "metadata": {},
   "outputs": [],
   "source": [
    "def _reprint_auth_names(aff_str):\n",
    "    lines = aff_str.split(\"\\n\")\n",
    "    names = []\n",
    "    for line in lines:\n",
    "        if \"(Reprint Author)\" in line:\n",
    "            names.append(line.split(\"(Reprint Author)\")[0].strip())\n",
    "    names = np.unique(names)\n",
    "    return \"\\n\".join(names)\n",
    "\n",
    "def reprint_auth_names(df, new_col_name):\n",
    "    df[new_col_name] = False\n",
    "    aff_not_na = ~df[\"Affiliation\"].isna()\n",
    "    df.loc[aff_not_na, new_col_name] = df.loc[aff_not_na, \"Affiliation\"].apply(\n",
    "        lambda s: _reprint_auth_names(s))\n",
    "    return df"
   ]
  },
  {
   "cell_type": "code",
   "execution_count": 15,
   "metadata": {},
   "outputs": [],
   "source": [
    "def nr_corr_auth(df, new_col_name):\n",
    "    df[new_col_name] = False\n",
    "    aff_not_na = ~df[\"Affiliation\"].isna()\n",
    "    df.loc[aff_not_na, new_col_name] = df.loc[aff_not_na, \"Corr_Auth_Names\"].apply(lambda s: len(s.split(\"\\n\")))\n",
    "    return df"
   ]
  },
  {
   "cell_type": "code",
   "execution_count": 16,
   "metadata": {},
   "outputs": [],
   "source": [
    "def _is_aff(aff_str, auth_name, inst_name_aliases):\n",
    "    assert isinstance(inst_name_aliases, list), \"inst_name_aliases must be a list\"\n",
    "    lines = aff_str.split(\"\\n\")\n",
    "    for line in lines:\n",
    "        for inst_name in inst_name_aliases:\n",
    "            if (auth_name in line) and (inst_name in line):\n",
    "                return True\n",
    "    return False\n",
    "\n",
    "def is_affiliated_with(df, new_col_name, auth_name, inst_name):\n",
    "    df[new_col_name] = False\n",
    "    aff_not_na = ~df[\"Affiliation\"].isna()\n",
    "    df.loc[aff_not_na, new_col_name] = df.loc[aff_not_na, \"Affiliation\"].apply(\n",
    "        lambda s: _is_aff(s, auth_name, inst_name))\n",
    "    return df"
   ]
  },
  {
   "cell_type": "code",
   "execution_count": 17,
   "metadata": {},
   "outputs": [
    {
     "data": {
      "text/html": [
       "<div>\n",
       "<style scoped>\n",
       "    .dataframe tbody tr th:only-of-type {\n",
       "        vertical-align: middle;\n",
       "    }\n",
       "\n",
       "    .dataframe tbody tr th {\n",
       "        vertical-align: top;\n",
       "    }\n",
       "\n",
       "    .dataframe thead th {\n",
       "        text-align: right;\n",
       "    }\n",
       "</style>\n",
       "<table border=\"1\" class=\"dataframe\">\n",
       "  <thead>\n",
       "    <tr style=\"text-align: right;\">\n",
       "      <th></th>\n",
       "      <th>Abstract</th>\n",
       "      <th>Affiliation</th>\n",
       "      <th>Author</th>\n",
       "      <th>Author-Email</th>\n",
       "      <th>Cited-References</th>\n",
       "      <th>Early Access Date</th>\n",
       "      <th>Journal</th>\n",
       "      <th>Journal-ISO</th>\n",
       "      <th>Keywords</th>\n",
       "      <th>Keywords-Plus</th>\n",
       "      <th>...</th>\n",
       "      <th>Year</th>\n",
       "      <th>Nr_Co_Author</th>\n",
       "      <th>Nr_Emails</th>\n",
       "      <th>DMH_has_email</th>\n",
       "      <th>Is_DMH_Corr_Auth</th>\n",
       "      <th>Corr_Auth_Names</th>\n",
       "      <th>Nr_Corr_Auth</th>\n",
       "      <th>Is_DMH_Sole_Corr_Auth</th>\n",
       "      <th>Is_DMH_Co-Corr_Auth</th>\n",
       "      <th>Is_DMH_at_TDTU</th>\n",
       "    </tr>\n",
       "  </thead>\n",
       "  <tbody>\n",
       "    <tr>\n",
       "      <th>0</th>\n",
       "      <td>We study comprehensively the uniform strain ef...</td>\n",
       "      <td>Hoat, DM (Reprint Author), Ton Duc Thang Univ,...</td>\n",
       "      <td>Naseri, Mosayeb and Hoat, D. M. and Ponce-Pere...</td>\n",
       "      <td>m.naseri@iauksh.ac.ir dominhhoat@tdtu.edu.vn r...</td>\n",
       "      <td>Ahmad M, 2017, J ALLOY COMPD, V705, P828, DOI ...</td>\n",
       "      <td>None</td>\n",
       "      <td>CHEMICAL PHYSICS</td>\n",
       "      <td>Chem. Phys.</td>\n",
       "      <td>FP-LAPW calculations; CsPbCl3; Strain effect; ...</td>\n",
       "      <td>ORGANIC-INORGANIC PEROVSKITES; THERMODYNAMIC P...</td>\n",
       "      <td>...</td>\n",
       "      <td>2020</td>\n",
       "      <td>5</td>\n",
       "      <td>4</td>\n",
       "      <td>True</td>\n",
       "      <td>True</td>\n",
       "      <td>Hoat, DM</td>\n",
       "      <td>1</td>\n",
       "      <td>True</td>\n",
       "      <td>False</td>\n",
       "      <td>True</td>\n",
       "    </tr>\n",
       "    <tr>\n",
       "      <th>1</th>\n",
       "      <td>Two dimensional monolayer semiconductors play ...</td>\n",
       "      <td>Naseri, M (Reprint Author), Islamic Azad Univ,...</td>\n",
       "      <td>Naseri, Mosayeb and Hoat, D. M. and Salehi, Kh...</td>\n",
       "      <td>m.naseri@iauksh.ac.ir dominhhoat@tdtu.edu.vn</td>\n",
       "      <td>Balendhran S, 2015, SMALL, V11, P640, DOI 10.1...</td>\n",
       "      <td>None</td>\n",
       "      <td>JOURNAL OF MOLECULAR GRAPHICS &amp; MODELLING</td>\n",
       "      <td>J. Mol. Graph.</td>\n",
       "      <td>2D material; XI2 monolayer; Indirect semicondu...</td>\n",
       "      <td>ELECTRONIC-PROPERTIES; BE2C MONOLAYER; STRAIN;...</td>\n",
       "      <td>...</td>\n",
       "      <td>2020</td>\n",
       "      <td>4</td>\n",
       "      <td>2</td>\n",
       "      <td>True</td>\n",
       "      <td>True</td>\n",
       "      <td>Hoat, DM\\nNaseri, M</td>\n",
       "      <td>2</td>\n",
       "      <td>False</td>\n",
       "      <td>True</td>\n",
       "      <td>True</td>\n",
       "    </tr>\n",
       "    <tr>\n",
       "      <th>2</th>\n",
       "      <td>In this work, we study the electronic, optical...</td>\n",
       "      <td>Binh, NTT (Reprint Author), Duy Tan Univ, Inst...</td>\n",
       "      <td>Vu, Tuan V. and Nguyen Thi Tuyet Anh and Hoat,...</td>\n",
       "      <td>vuvantuan@tdtu.edu.vn nguyentthanhbinh8@duytan...</td>\n",
       "      <td>Atag S, 2009, PHYS REV D, V80, DOI 10.1103/Phy...</td>\n",
       "      <td>None</td>\n",
       "      <td>PHYSICA E-LOW-DIMENSIONAL SYSTEMS &amp; NANOSTRUCT...</td>\n",
       "      <td>Physica E</td>\n",
       "      <td>Monolayer germanium carbide; Fully hydrogenati...</td>\n",
       "      <td>STRAIN</td>\n",
       "      <td>...</td>\n",
       "      <td>2020</td>\n",
       "      <td>11</td>\n",
       "      <td>3</td>\n",
       "      <td>False</td>\n",
       "      <td>False</td>\n",
       "      <td>Binh, NTT</td>\n",
       "      <td>1</td>\n",
       "      <td>False</td>\n",
       "      <td>False</td>\n",
       "      <td>True</td>\n",
       "    </tr>\n",
       "    <tr>\n",
       "      <th>3</th>\n",
       "      <td>In recent years, the scientific community has ...</td>\n",
       "      <td>Hoat, DM (Reprint Author), Ton Duc Thang Univ,...</td>\n",
       "      <td>Hoat, D. M.</td>\n",
       "      <td>dominhhoat@tdtu.edu.vn</td>\n",
       "      <td>Addadi Z, 2017, J SUPERCOND NOV MAGN, V30, P91...</td>\n",
       "      <td>FEB 2020</td>\n",
       "      <td>PHILOSOPHICAL MAGAZINE LETTERS</td>\n",
       "      <td>Philos. Mag. Lett.</td>\n",
       "      <td>Diluted semiconductor; half-metallicity; elect...</td>\n",
       "      <td>QUANTUM DOTS; ZNO; FERROMAGNETISM; FE; CO</td>\n",
       "      <td>...</td>\n",
       "      <td>2020</td>\n",
       "      <td>1</td>\n",
       "      <td>1</td>\n",
       "      <td>True</td>\n",
       "      <td>True</td>\n",
       "      <td>Hoat, DM</td>\n",
       "      <td>1</td>\n",
       "      <td>True</td>\n",
       "      <td>False</td>\n",
       "      <td>True</td>\n",
       "    </tr>\n",
       "    <tr>\n",
       "      <th>4</th>\n",
       "      <td>In this paper, we report results of the struct...</td>\n",
       "      <td>Hoat, DM (Reprint Author), Ton Duc Thang Univ,...</td>\n",
       "      <td>Hoat, D. M. and Naseri, Mosayeb and Ponce-Pere...</td>\n",
       "      <td>dominhhoat@tdtu.edu.vn m.naseri@iauksh.ac.ir r...</td>\n",
       "      <td>Ambrosch-Draxl C, 2006, COMPUT PHYS COMMUN, V1...</td>\n",
       "      <td>None</td>\n",
       "      <td>JOURNAL OF SOLID STATE CHEMISTRY</td>\n",
       "      <td>J. Solid State Chem.</td>\n",
       "      <td>FP-LAPW method; CdIn(2)Se(4)compound; Structur...</td>\n",
       "      <td>THERMODYNAMIC PROPERTIES; REFRACTIVE-INDEX; EN...</td>\n",
       "      <td>...</td>\n",
       "      <td>2020</td>\n",
       "      <td>5</td>\n",
       "      <td>4</td>\n",
       "      <td>True</td>\n",
       "      <td>True</td>\n",
       "      <td>Hoat, DM</td>\n",
       "      <td>1</td>\n",
       "      <td>True</td>\n",
       "      <td>False</td>\n",
       "      <td>True</td>\n",
       "    </tr>\n",
       "  </tbody>\n",
       "</table>\n",
       "<p>5 rows × 23 columns</p>\n",
       "</div>"
      ],
      "text/plain": [
       "                                            Abstract  \\\n",
       "0  We study comprehensively the uniform strain ef...   \n",
       "1  Two dimensional monolayer semiconductors play ...   \n",
       "2  In this work, we study the electronic, optical...   \n",
       "3  In recent years, the scientific community has ...   \n",
       "4  In this paper, we report results of the struct...   \n",
       "\n",
       "                                         Affiliation  \\\n",
       "0  Hoat, DM (Reprint Author), Ton Duc Thang Univ,...   \n",
       "1  Naseri, M (Reprint Author), Islamic Azad Univ,...   \n",
       "2  Binh, NTT (Reprint Author), Duy Tan Univ, Inst...   \n",
       "3  Hoat, DM (Reprint Author), Ton Duc Thang Univ,...   \n",
       "4  Hoat, DM (Reprint Author), Ton Duc Thang Univ,...   \n",
       "\n",
       "                                              Author  \\\n",
       "0  Naseri, Mosayeb and Hoat, D. M. and Ponce-Pere...   \n",
       "1  Naseri, Mosayeb and Hoat, D. M. and Salehi, Kh...   \n",
       "2  Vu, Tuan V. and Nguyen Thi Tuyet Anh and Hoat,...   \n",
       "3                                        Hoat, D. M.   \n",
       "4  Hoat, D. M. and Naseri, Mosayeb and Ponce-Pere...   \n",
       "\n",
       "                                        Author-Email  \\\n",
       "0  m.naseri@iauksh.ac.ir dominhhoat@tdtu.edu.vn r...   \n",
       "1       m.naseri@iauksh.ac.ir dominhhoat@tdtu.edu.vn   \n",
       "2  vuvantuan@tdtu.edu.vn nguyentthanhbinh8@duytan...   \n",
       "3                             dominhhoat@tdtu.edu.vn   \n",
       "4  dominhhoat@tdtu.edu.vn m.naseri@iauksh.ac.ir r...   \n",
       "\n",
       "                                    Cited-References Early Access Date  \\\n",
       "0  Ahmad M, 2017, J ALLOY COMPD, V705, P828, DOI ...              None   \n",
       "1  Balendhran S, 2015, SMALL, V11, P640, DOI 10.1...              None   \n",
       "2  Atag S, 2009, PHYS REV D, V80, DOI 10.1103/Phy...              None   \n",
       "3  Addadi Z, 2017, J SUPERCOND NOV MAGN, V30, P91...          FEB 2020   \n",
       "4  Ambrosch-Draxl C, 2006, COMPUT PHYS COMMUN, V1...              None   \n",
       "\n",
       "                                             Journal           Journal-ISO  \\\n",
       "0                                   CHEMICAL PHYSICS           Chem. Phys.   \n",
       "1          JOURNAL OF MOLECULAR GRAPHICS & MODELLING        J. Mol. Graph.   \n",
       "2  PHYSICA E-LOW-DIMENSIONAL SYSTEMS & NANOSTRUCT...             Physica E   \n",
       "3                     PHILOSOPHICAL MAGAZINE LETTERS    Philos. Mag. Lett.   \n",
       "4                   JOURNAL OF SOLID STATE CHEMISTRY  J. Solid State Chem.   \n",
       "\n",
       "                                            Keywords  \\\n",
       "0  FP-LAPW calculations; CsPbCl3; Strain effect; ...   \n",
       "1  2D material; XI2 monolayer; Indirect semicondu...   \n",
       "2  Monolayer germanium carbide; Fully hydrogenati...   \n",
       "3  Diluted semiconductor; half-metallicity; elect...   \n",
       "4  FP-LAPW method; CdIn(2)Se(4)compound; Structur...   \n",
       "\n",
       "                                       Keywords-Plus  ...  Year Nr_Co_Author  \\\n",
       "0  ORGANIC-INORGANIC PEROVSKITES; THERMODYNAMIC P...  ...  2020            5   \n",
       "1  ELECTRONIC-PROPERTIES; BE2C MONOLAYER; STRAIN;...  ...  2020            4   \n",
       "2                                             STRAIN  ...  2020           11   \n",
       "3          QUANTUM DOTS; ZNO; FERROMAGNETISM; FE; CO  ...  2020            1   \n",
       "4  THERMODYNAMIC PROPERTIES; REFRACTIVE-INDEX; EN...  ...  2020            5   \n",
       "\n",
       "  Nr_Emails  DMH_has_email  Is_DMH_Corr_Auth      Corr_Auth_Names  \\\n",
       "0         4           True              True             Hoat, DM   \n",
       "1         2           True              True  Hoat, DM\\nNaseri, M   \n",
       "2         3          False             False            Binh, NTT   \n",
       "3         1           True              True             Hoat, DM   \n",
       "4         4           True              True             Hoat, DM   \n",
       "\n",
       "   Nr_Corr_Auth  Is_DMH_Sole_Corr_Auth Is_DMH_Co-Corr_Auth  Is_DMH_at_TDTU  \n",
       "0             1                   True               False            True  \n",
       "1             2                  False                True            True  \n",
       "2             1                  False               False            True  \n",
       "3             1                   True               False            True  \n",
       "4             1                   True               False            True  \n",
       "\n",
       "[5 rows x 23 columns]"
      ]
     },
     "execution_count": 17,
     "metadata": {},
     "output_type": "execute_result"
    }
   ],
   "source": [
    "BIB_FILE = \"savedrecs.bib\"\n",
    "FIELDS = [\"Author\", \"Title\", \"Journal\", \"Year\", \"Abstract\", \n",
    "          \"Keywords-Plus\", \"Keywords\", \"Research-Areas\", \"Web-of-Science-Categories\",\n",
    "          \"Author-Email\", \"Journal-ISO\", \"Cited-References\", \"Early Access Date\", \"Affiliation\"]\n",
    "df = create_pub_df(BIB_FILE, FIELDS)\n",
    "\n",
    "cols_to_rm_newline = [col for col in df.columns if col not in [\"Cited-References\", \"Affiliation\"]]\n",
    "df = remove_newlines_char(df, cols_to_rm_newline)\n",
    "df = remove_backward_slash(df, df.columns)\n",
    "df = impute_year_none(df)\n",
    "df[\"Year\"] = df[\"Year\"].astype(\"int\")\n",
    "\n",
    "df = nr_coauth(df, \"Nr_Co_Author\")\n",
    "\n",
    "df = nr_emails(df, \"Nr_Emails\")\n",
    "\n",
    "df = has_email(df, \"DMH_has_email\", [\"dominhhoat@tdtu.edu.vn\", \"hoat@ifuap.buap.mx\"])\n",
    "\n",
    "df = is_reprint_auth(df, \"Is_DMH_Corr_Auth\", \"Hoat\")\n",
    "\n",
    "df = reprint_auth_names(df, \"Corr_Auth_Names\")\n",
    "\n",
    "df = nr_corr_auth(df, \"Nr_Corr_Auth\")\n",
    "\n",
    "df[\"Is_DMH_Sole_Corr_Auth\"] = df[\"Is_DMH_Corr_Auth\"] & (df[\"Nr_Corr_Auth\"] == 1)\n",
    "\n",
    "df[\"Is_DMH_Co-Corr_Auth\"] = df[\"Is_DMH_Corr_Auth\"] & (df[\"Nr_Corr_Auth\"] > 1)\n",
    "\n",
    "df = is_affiliated_with(df, \"Is_DMH_at_TDTU\", \"Hoat\", [\"Ton Duc Thang\", \"Ton Duc Thong\"])\n",
    "\n",
    "df.head()"
   ]
  },
  {
   "cell_type": "code",
   "execution_count": null,
   "metadata": {},
   "outputs": [],
   "source": [
    "df.info()"
   ]
  },
  {
   "cell_type": "markdown",
   "metadata": {},
   "source": [
    "# Number of publications"
   ]
  },
  {
   "cell_type": "code",
   "execution_count": 27,
   "metadata": {},
   "outputs": [
    {
     "data": {
      "text/plain": [
       "(0, 14)"
      ]
     },
     "execution_count": 27,
     "metadata": {},
     "output_type": "execute_result"
    },
    {
     "data": {
      "image/png": "[encoded data removed]",
      "text/plain": [
       "<Figure size 864x288 with 2 Axes>"
      ]
     },
     "metadata": {},
     "output_type": "display_data"
    }
   ],
   "source": [
    "sns.set(font_scale=1.3)\n",
    "\n",
    "fig, ax = plt.subplots(nrows=1, ncols=2, figsize=(12, 4))\n",
    "plt.subplots_adjust(wspace=0.3)\n",
    "\n",
    "at_tdtu = df[\"Is_DMH_at_TDTU\"]\n",
    "\n",
    "df.loc[~at_tdtu, \"Year\"].value_counts().sort_index().plot(kind=\"bar\", ax=ax[0])\n",
    "ax[0].set_xlabel(\"Year\")\n",
    "ax[0].set_ylabel(\"Nr. of Papers (in WoS)\")\n",
    "ax[0].set_ylim([0, 14])\n",
    "ax[0].set_title(\"Before working at TDTU\")\n",
    "\n",
    "df.loc[at_tdtu, \"Year\"].value_counts().sort_index().plot(kind=\"bar\", ax=ax[1])\n",
    "ax[1].set_xlabel(\"Year\")\n",
    "ax[1].set_ylabel(\"Nr. of Papers (in WoS)\")\n",
    "ax[1].set_title(\"When working at TDTU\")\n",
    "ax[1].set_ylim([0, 14])"
   ]
  },
  {
   "cell_type": "code",
   "execution_count": null,
   "metadata": {},
   "outputs": [],
   "source": [
    "df_07_16 = df[df[\"Year\"] <= 2016]\n",
    "df_17_18 = df[(df[\"Year\"] >= 2017) & (df[\"Year\"] <= 2018)]\n",
    "df_19_20 = df[df[\"Year\"] >= 2019]"
   ]
  },
  {
   "cell_type": "markdown",
   "metadata": {},
   "source": [
    "# Most frequent journals"
   ]
  },
  {
   "cell_type": "code",
   "execution_count": null,
   "metadata": {},
   "outputs": [],
   "source": [
    "jour_07_16 = df_07_16[\"Journal-ISO\"]\n",
    "jour_17_18 = df_17_18[\"Journal-ISO\"]\n",
    "jour_19_20 = df_19_20[\"Journal-ISO\"]"
   ]
  },
  {
   "cell_type": "code",
   "execution_count": null,
   "metadata": {},
   "outputs": [],
   "source": [
    "sns.set(font_scale=1.2)\n",
    "\n",
    "fig, ax = plt.subplots(nrows=3, ncols=1, figsize=(10, 10))\n",
    "plt.subplots_adjust(hspace=0.6)\n",
    "\n",
    "jour_07_16.value_counts()[:10].sort_values(ascending=True).plot(kind=\"barh\", ax=ax[0])\n",
    "ax[0].set_title(\"2007-2016\")\n",
    "ax[0].set_xlabel(\"frequency\")\n",
    "\n",
    "jour_17_18.value_counts()[:10].sort_values(ascending=True).plot(kind=\"barh\", ax=ax[1])\n",
    "ax[1].set_title(\"2017-2018\")\n",
    "ax[1].set_xlabel(\"frequency\")\n",
    "\n",
    "jour_19_20.value_counts()[:10].sort_values(ascending=True).plot(kind=\"barh\", ax=ax[2])\n",
    "ax[2].set_title(\"2019-2020\")\n",
    "ax[2].set_xlabel(\"frequency\")"
   ]
  },
  {
   "cell_type": "code",
   "execution_count": null,
   "metadata": {},
   "outputs": [],
   "source": [
    "sns.set(font_scale=1.5)\n",
    "\n",
    "fig, ax = plt.subplots(nrows=3, ncols=1, figsize=(10, 10))\n",
    "\n",
    "wcl_07_16 = WordCloud(max_font_size=200, width=800, background_color=\"white\").generate_from_frequencies(\n",
    "    Counter(jour_07_16.dropna().values))\n",
    "\n",
    "ax[0].imshow(wcl_07_16, interpolation=\"bilinear\")\n",
    "ax[0].axis(\"off\")\n",
    "ax[0].set_title(\"2007-2016\")\n",
    "\n",
    "wcl_17_18 = WordCloud(max_font_size=200, width=800, background_color=\"white\").generate_from_frequencies(\n",
    "    Counter(jour_17_18.dropna().values))\n",
    "\n",
    "ax[1].imshow(wcl_17_18, interpolation=\"bilinear\")\n",
    "ax[1].axis(\"off\")\n",
    "ax[1].set_title(\"2017-2018\")\n",
    "\n",
    "wcl_19_20 = WordCloud(max_font_size=200, width=800, background_color=\"white\").generate_from_frequencies(\n",
    "    Counter(jour_19_20.dropna().values))\n",
    "\n",
    "ax[2].imshow(wcl_19_20, interpolation=\"bilinear\")\n",
    "ax[2].axis(\"off\")\n",
    "ax[2].set_title(\"2019-2020\")"
   ]
  },
  {
   "cell_type": "markdown",
   "metadata": {},
   "source": [
    "# Most common research areas"
   ]
  },
  {
   "cell_type": "code",
   "execution_count": null,
   "metadata": {},
   "outputs": [],
   "source": [
    "res_areas_07_16 = []\n",
    "for s in df_07_16[\"Research-Areas\"].values:\n",
    "    res_areas_07_16.extend(s.split(\";\"))\n",
    "\n",
    "res_areas_07_16 = [s.strip() for s in res_areas_07_16]\n",
    "res_areas_07_16 = [s.replace(\"\\\\\", \"\") for s in res_areas_07_16]"
   ]
  },
  {
   "cell_type": "code",
   "execution_count": null,
   "metadata": {},
   "outputs": [],
   "source": [
    "res_areas_17_18 = []\n",
    "for s in df_17_18[\"Research-Areas\"].values:\n",
    "    res_areas_17_18.extend(s.split(\";\"))\n",
    "\n",
    "res_areas_17_18 = [s.strip() for s in res_areas_17_18]\n",
    "res_areas_17_18 = [s.replace(\"\\\\\", \"\") for s in res_areas_17_18]"
   ]
  },
  {
   "cell_type": "code",
   "execution_count": null,
   "metadata": {},
   "outputs": [],
   "source": [
    "res_areas_19_20 = []\n",
    "for s in df_19_20[\"Research-Areas\"].values:\n",
    "    res_areas_19_20.extend(s.split(\";\"))\n",
    "\n",
    "res_areas_19_20 = [s.strip() for s in res_areas_19_20]\n",
    "res_areas_19_20 = [s.replace(\"\\\\\", \"\") for s in res_areas_19_20]"
   ]
  },
  {
   "cell_type": "code",
   "execution_count": null,
   "metadata": {},
   "outputs": [],
   "source": [
    "sns.set(font_scale=1.5)\n",
    "\n",
    "fig, ax = plt.subplots(nrows=3, ncols=1, figsize=(10, 10))\n",
    "\n",
    "wcl_07_16 = WordCloud(max_font_size=200, width=800, background_color=\"white\").generate_from_frequencies(\n",
    "    Counter(res_areas_07_16))\n",
    "\n",
    "ax[0].imshow(wcl_07_16, interpolation=\"bilinear\")\n",
    "ax[0].axis(\"off\")\n",
    "ax[0].set_title(\"2007-2016\")\n",
    "\n",
    "wcl_17_18 = WordCloud(max_font_size=200, width=800, background_color=\"white\").generate_from_frequencies(\n",
    "    Counter(res_areas_17_18))\n",
    "\n",
    "ax[1].imshow(wcl_17_18, interpolation=\"bilinear\")\n",
    "ax[1].axis(\"off\")\n",
    "ax[1].set_title(\"2017-2018\")\n",
    "\n",
    "wcl_19_20 = WordCloud(max_font_size=200, width=800, background_color=\"white\").generate_from_frequencies(\n",
    "    Counter(res_areas_19_20))\n",
    "\n",
    "ax[2].imshow(wcl_19_20, interpolation=\"bilinear\")\n",
    "ax[2].axis(\"off\")\n",
    "ax[2].set_title(\"2019-2020\")"
   ]
  },
  {
   "cell_type": "markdown",
   "metadata": {},
   "source": [
    "# Most common Web-of-Science Categories"
   ]
  },
  {
   "cell_type": "code",
   "execution_count": null,
   "metadata": {},
   "outputs": [],
   "source": [
    "wos_cat_07_16 = []\n",
    "for s in df_07_16[\"Web-of-Science-Categories\"].values:\n",
    "    wos_cat_07_16.extend(s.split(\";\"))\n",
    "\n",
    "wos_cat_07_16 = [s.strip() for s in wos_cat_07_16]\n",
    "wos_cat_07_16 = [s.replace(\"\\\\\", \"\") for s in wos_cat_07_16]"
   ]
  },
  {
   "cell_type": "code",
   "execution_count": null,
   "metadata": {},
   "outputs": [],
   "source": [
    "wos_cat_17_18 = []\n",
    "for s in df_17_18[\"Web-of-Science-Categories\"].values:\n",
    "    wos_cat_17_18.extend(s.split(\";\"))\n",
    "\n",
    "wos_cat_17_18 = [s.strip() for s in wos_cat_17_18]\n",
    "wos_cat_17_18 = [s.replace(\"\\\\\", \"\") for s in wos_cat_17_18]"
   ]
  },
  {
   "cell_type": "code",
   "execution_count": null,
   "metadata": {},
   "outputs": [],
   "source": [
    "wos_cat_19_20 = []\n",
    "for s in df_19_20[\"Web-of-Science-Categories\"].values:\n",
    "    wos_cat_19_20.extend(s.split(\";\"))\n",
    "\n",
    "wos_cat_19_20 = [s.strip() for s in wos_cat_19_20]\n",
    "wos_cat_19_20 = [s.replace(\"\\\\\", \"\") for s in wos_cat_19_20]"
   ]
  },
  {
   "cell_type": "code",
   "execution_count": null,
   "metadata": {},
   "outputs": [],
   "source": [
    "sns.set(font_scale=1.5)\n",
    "\n",
    "fig, ax = plt.subplots(nrows=3, ncols=1, figsize=(10, 10))\n",
    "\n",
    "wcl_07_16 = WordCloud(max_font_size=200, width=800, background_color=\"white\").generate_from_frequencies(\n",
    "    Counter(wos_cat_07_16))\n",
    "\n",
    "ax[0].imshow(wcl_07_16, interpolation=\"bilinear\")\n",
    "ax[0].axis(\"off\")\n",
    "ax[0].set_title(\"2007-2016\")\n",
    "\n",
    "wcl_17_18 = WordCloud(max_font_size=200, width=800, background_color=\"white\").generate_from_frequencies(\n",
    "    Counter(wos_cat_17_18))\n",
    "\n",
    "ax[1].imshow(wcl_17_18, interpolation=\"bilinear\")\n",
    "ax[1].axis(\"off\")\n",
    "ax[1].set_title(\"2017-2018\")\n",
    "\n",
    "wcl_19_20 = WordCloud(max_font_size=200, width=800, background_color=\"white\").generate_from_frequencies(\n",
    "    Counter(wos_cat_19_20))\n",
    "\n",
    "ax[2].imshow(wcl_19_20, interpolation=\"bilinear\")\n",
    "ax[2].axis(\"off\")\n",
    "ax[2].set_title(\"2019-2020\")"
   ]
  },
  {
   "cell_type": "markdown",
   "metadata": {},
   "source": [
    "# Most frequently occurring keywords"
   ]
  },
  {
   "cell_type": "code",
   "execution_count": null,
   "metadata": {},
   "outputs": [],
   "source": [
    "kw_07_16 = []\n",
    "for s in df_07_16[\"Keywords\"].dropna().values:\n",
    "    kw_07_16.extend(s.split(\";\"))\n",
    "for s in df_07_16[\"Keywords-Plus\"].dropna().values:\n",
    "    kw_07_16.extend(s.split(\";\"))\n",
    "\n",
    "kw_07_16 = [s.strip().lower() for s in kw_07_16]"
   ]
  },
  {
   "cell_type": "code",
   "execution_count": null,
   "metadata": {},
   "outputs": [],
   "source": [
    "kw_17_18 = []\n",
    "for s in df_17_18[\"Keywords\"].dropna().values:\n",
    "    kw_17_18.extend(s.split(\";\"))\n",
    "for s in df_17_18[\"Keywords-Plus\"].dropna().values:\n",
    "    kw_17_18.extend(s.split(\";\"))\n",
    "\n",
    "kw_17_18 = [s.strip().lower() for s in kw_17_18]"
   ]
  },
  {
   "cell_type": "code",
   "execution_count": null,
   "metadata": {},
   "outputs": [],
   "source": [
    "kw_19_20 = []\n",
    "for s in df_19_20[\"Keywords\"].dropna().values:\n",
    "    kw_19_20.extend(s.split(\";\"))\n",
    "for s in df_19_20[\"Keywords-Plus\"].dropna().values:\n",
    "    kw_19_20.extend(s.split(\";\"))\n",
    "\n",
    "kw_19_20 = [s.strip().lower() for s in kw_19_20]\n",
    "kw_19_20 = [\"nanoparticle\" if s==\"nanoparticles\" else s for s in kw_19_20]"
   ]
  },
  {
   "cell_type": "code",
   "execution_count": null,
   "metadata": {},
   "outputs": [],
   "source": [
    "sns.set(font_scale=1.5)\n",
    "\n",
    "fig, ax = plt.subplots(nrows=3, ncols=1, figsize=(10, 10))\n",
    "\n",
    "wcl_07_16 = WordCloud(max_words=25, max_font_size=200, width=800, background_color=\"white\").generate_from_frequencies(\n",
    "    Counter(kw_07_16))\n",
    "\n",
    "ax[0].imshow(wcl_07_16, interpolation=\"bilinear\")\n",
    "ax[0].axis(\"off\")\n",
    "ax[0].set_title(\"2007-2016\")\n",
    "\n",
    "wcl_17_18 = WordCloud(max_words=25, max_font_size=200, width=800, background_color=\"white\").generate_from_frequencies(\n",
    "    Counter(kw_17_18))\n",
    "\n",
    "ax[1].imshow(wcl_17_18, interpolation=\"bilinear\")\n",
    "ax[1].axis(\"off\")\n",
    "ax[1].set_title(\"2017-2018\")\n",
    "\n",
    "wcl_19_20 = WordCloud(max_words=25, max_font_size=200, width=800, background_color=\"white\").generate_from_frequencies(\n",
    "    Counter(kw_19_20))\n",
    "\n",
    "ax[2].imshow(wcl_19_20, interpolation=\"bilinear\")\n",
    "ax[2].axis(\"off\")\n",
    "ax[2].set_title(\"2019-2020\")"
   ]
  },
  {
   "cell_type": "markdown",
   "metadata": {},
   "source": [
    "# Most frequent co-corresponding authors by email\n",
    "Among papers in which N.T.K. is a corresponding author, who else are also corresponding author?"
   ]
  },
  {
   "cell_type": "code",
   "execution_count": null,
   "metadata": {},
   "outputs": [],
   "source": [
    "em_07_16 = []\n",
    "for s in df_07_16.loc[df_07_16[\"NTK_is_Corresp_Aut\"]==True, \"Author-Email\"].dropna().values:\n",
    "    em_07_16.extend(s.split())\n",
    "\n",
    "em_07_16 = [s.strip() for s in em_07_16]\n",
    "em_07_16 = [s for s in em_07_16 if \"nguyentruongkhang\" not in s]"
   ]
  },
  {
   "cell_type": "code",
   "execution_count": null,
   "metadata": {},
   "outputs": [],
   "source": [
    "em_17_18 = []\n",
    "for s in df_17_18.loc[df_17_18[\"NTK_is_Corresp_Aut\"]==True, \"Author-Email\"].dropna().values:\n",
    "    em_17_18.extend(s.split())\n",
    "\n",
    "em_17_18 = [s.strip() for s in em_17_18]\n",
    "em_17_18 = [s for s in em_17_18 if \"nguyentruongkhang\" not in s]"
   ]
  },
  {
   "cell_type": "code",
   "execution_count": null,
   "metadata": {},
   "outputs": [],
   "source": [
    "em_19_20 = []\n",
    "for s in df_19_20.loc[df_19_20[\"NTK_is_Corresp_Aut\"]==True,\"Author-Email\"].dropna().values:\n",
    "    em_19_20.extend(s.split())\n",
    "\n",
    "em_19_20 = [s.strip() for s in em_19_20]\n",
    "em_19_20 = [s for s in em_19_20 if \"nguyentruongkhang\" not in s]"
   ]
  },
  {
   "cell_type": "code",
   "execution_count": null,
   "metadata": {},
   "outputs": [],
   "source": [
    "sns.set(font_scale=1.5)\n",
    "\n",
    "fig, ax = plt.subplots(nrows=3, ncols=1, figsize=(10, 10))\n",
    "\n",
    "wcl_07_16 = WordCloud(max_words=15, max_font_size=200, width=800, background_color=\"white\").generate_from_frequencies(\n",
    "    Counter(em_07_16))\n",
    "\n",
    "ax[0].imshow(wcl_07_16, interpolation=\"bilinear\")\n",
    "ax[0].axis(\"off\")\n",
    "ax[0].set_title(\"2007-2016\")\n",
    "\n",
    "wcl_17_18 = WordCloud(max_words=15, max_font_size=200, width=800, background_color=\"white\").generate_from_frequencies(\n",
    "    Counter(em_17_18))\n",
    "\n",
    "ax[1].imshow(wcl_17_18, interpolation=\"bilinear\")\n",
    "ax[1].axis(\"off\")\n",
    "ax[1].set_title(\"2017-2018\")\n",
    "\n",
    "wcl_19_20 = WordCloud(max_words=15, max_font_size=200, width=800, background_color=\"white\").generate_from_frequencies(\n",
    "    Counter(em_19_20))\n",
    "\n",
    "ax[2].imshow(wcl_19_20, interpolation=\"bilinear\")\n",
    "ax[2].axis(\"off\")\n",
    "ax[2].set_title(\"2019-2020\")"
   ]
  },
  {
   "cell_type": "markdown",
   "metadata": {},
   "source": [
    "# Most frequent co-authors by name"
   ]
  },
  {
   "cell_type": "code",
   "execution_count": null,
   "metadata": {},
   "outputs": [],
   "source": [
    "exclude_names = [\"Nguyen Truong Khang\", \"Truong Khang Nguyen\", \"Nguyen, Truong Khang\"]"
   ]
  },
  {
   "cell_type": "code",
   "execution_count": null,
   "metadata": {},
   "outputs": [],
   "source": [
    "au_07_16 = []\n",
    "for s in df_07_16[\"Author\"].dropna().values:\n",
    "    au_07_16.extend(s.split(\"and\"))\n",
    "\n",
    "au_07_16 = [s.strip() for s in au_07_16]\n",
    "au_07_16 = [s for s in au_07_16 if s not in exclude_names]"
   ]
  },
  {
   "cell_type": "code",
   "execution_count": null,
   "metadata": {},
   "outputs": [],
   "source": [
    "au_17_18 = []\n",
    "for s in df_17_18[\"Author\"].dropna().values:\n",
    "    au_17_18.extend(s.split(\"and\"))\n",
    "\n",
    "au_17_18 = [s.strip() for s in au_17_18]\n",
    "au_17_18 = [s for s in au_17_18 if s not in exclude_names]"
   ]
  },
  {
   "cell_type": "code",
   "execution_count": null,
   "metadata": {},
   "outputs": [],
   "source": [
    "au_19_20 = []\n",
    "for s in df_19_20[\"Author\"].dropna().values:\n",
    "    au_19_20.extend(s.split(\"and\"))\n",
    "\n",
    "au_19_20 = [s.strip() for s in au_19_20]\n",
    "au_19_20 = [s for s in au_19_20 if s not in exclude_names]"
   ]
  },
  {
   "cell_type": "code",
   "execution_count": null,
   "metadata": {},
   "outputs": [],
   "source": [
    "fig, ax = plt.subplots(nrows=3, ncols=1, figsize=(10, 10))\n",
    "\n",
    "wcl_07_16 = WordCloud(max_words=20, max_font_size=200, width=800, background_color=\"white\").generate_from_frequencies(\n",
    "    Counter(au_07_16))\n",
    "\n",
    "ax[0].imshow(wcl_07_16, interpolation=\"bilinear\")\n",
    "ax[0].axis(\"off\")\n",
    "ax[0].set_title(\"2007-2016\")\n",
    "\n",
    "wcl_17_18 = WordCloud(max_words=20, max_font_size=200, width=800, background_color=\"white\").generate_from_frequencies(\n",
    "    Counter(au_17_18))\n",
    "\n",
    "ax[1].imshow(wcl_17_18, interpolation=\"bilinear\")\n",
    "ax[1].axis(\"off\")\n",
    "ax[1].set_title(\"2017-2018\")\n",
    "\n",
    "wcl_19_20 = WordCloud(max_words=20, max_font_size=200, width=800, background_color=\"white\").generate_from_frequencies(\n",
    "    Counter(au_19_20))\n",
    "\n",
    "ax[2].imshow(wcl_19_20, interpolation=\"bilinear\")\n",
    "ax[2].axis(\"off\")\n",
    "ax[2].set_title(\"2019-2020\")"
   ]
  }
 ],
 "metadata": {
  "kernelspec": {
   "display_name": "Python 3",
   "language": "python",
   "name": "python3"
  },
  "language_info": {
   "codemirror_mode": {
    "name": "ipython",
    "version": 3
   },
   "file_extension": ".py",
   "mimetype": "text/x-python",
   "name": "python",
   "nbconvert_exporter": "python",
   "pygments_lexer": "ipython3",
   "version": "3.7.3"
  }
 },
 "nbformat": 4,
 "nbformat_minor": 2
}
